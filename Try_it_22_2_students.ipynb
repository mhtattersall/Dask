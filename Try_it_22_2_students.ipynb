{
  "cells": [
    {
      "cell_type": "markdown",
      "metadata": {
        "id": "view-in-github",
        "colab_type": "text"
      },
      "source": [
        "<a href=\"https://colab.research.google.com/github/mhtattersall/Dask/blob/main/Try_it_22_2_students.ipynb\" target=\"_parent\"><img src=\"https://colab.research.google.com/assets/colab-badge.svg\" alt=\"Open In Colab\"/></a>"
      ]
    },
    {
      "cell_type": "markdown",
      "id": "45785671",
      "metadata": {
        "id": "45785671"
      },
      "source": [
        "## Try-It Activity 22.2: Running Parallel Operations using DASK"
      ]
    },
    {
      "cell_type": "markdown",
      "id": "7a9a317e",
      "metadata": {
        "id": "7a9a317e"
      },
      "source": [
        "Learning Outcome Addressed:\n",
        "1. Run parallel operations in DASK.\n",
        "\n",
        "The DASK *library* in Python allows you to take advantage of how computers are set up with multiple cores to run *threads* in parallel. In this try-it activity, you will practice using Python’s DASK *library* to run *threads* in parallel.\n",
        "\n",
        "This try-it activity will help you to analyze the performance gains realized by running *threads* in parallel. First, you will run *functions* sequentially. Then, you will run the same *functions* in parallel. Finally, you will compare performances for both cases.\n",
        "\n",
        "The code below are *functions* to `add` two numbers and `inc` a number by 1. Note that the two *functions* have `sleep(1)` which instructs the *function* to delay for one second. The `sleep` *function* is used here to simulate a long running program."
      ]
    },
    {
      "cell_type": "code",
      "execution_count": 1,
      "id": "120c9bdc",
      "metadata": {
        "id": "120c9bdc"
      },
      "outputs": [],
      "source": [
        "from time import sleep\n",
        "\n",
        "def inc(x):\n",
        "    sleep(1)\n",
        "    return x + 1\n",
        "\n",
        "def add(x, y):\n",
        "    sleep(1)\n",
        "    return x + y"
      ]
    },
    {
      "cell_type": "markdown",
      "id": "ed9d2936",
      "metadata": {
        "id": "ed9d2936"
      },
      "source": [
        "1. Execute the code below using the `%%time` *function* to see how fast the *functions* run when they are run sequentially:"
      ]
    },
    {
      "cell_type": "code",
      "execution_count": 2,
      "id": "d5ef4eaf",
      "metadata": {
        "colab": {
          "base_uri": "https://localhost:8080/"
        },
        "id": "d5ef4eaf",
        "outputId": "02af2b95-709d-4912-a10a-780280b88eff"
      },
      "outputs": [
        {
          "output_type": "stream",
          "name": "stdout",
          "text": [
            "CPU times: user 15.6 ms, sys: 1.68 ms, total: 17.3 ms\n",
            "Wall time: 3 s\n"
          ]
        }
      ],
      "source": [
        "%%time\n",
        "# Running the functions sequentially\n",
        "\n",
        "x = inc(1)\n",
        "y = inc(2)\n",
        "z = add(x, y)\n"
      ]
    },
    {
      "cell_type": "markdown",
      "id": "c30a4aaf",
      "metadata": {
        "id": "c30a4aaf"
      },
      "source": [
        "2. You can use DASK to run the *functions* in parallel. This is done by adding the `delayed` *decorator* to the *function*. First, import the `delayed` *decorator*:"
      ]
    },
    {
      "cell_type": "code",
      "execution_count": 3,
      "id": "c996d52f",
      "metadata": {
        "id": "c996d52f"
      },
      "outputs": [],
      "source": [
        "from dask import delayed"
      ]
    },
    {
      "cell_type": "markdown",
      "id": "2be9f621",
      "metadata": {
        "id": "2be9f621"
      },
      "source": [
        "3. Add the `delayed` *decorator* to the *function* call. Run the code below to find out if there are any improvements in the execution of the *functions* when running them in parallel."
      ]
    },
    {
      "cell_type": "code",
      "execution_count": 4,
      "id": "7fd6148d",
      "metadata": {
        "colab": {
          "base_uri": "https://localhost:8080/"
        },
        "id": "7fd6148d",
        "outputId": "5a7b5778-16b6-4d5b-a2ea-f6480fae8433"
      },
      "outputs": [
        {
          "output_type": "stream",
          "name": "stdout",
          "text": [
            "CPU times: user 496 µs, sys: 89 µs, total: 585 µs\n",
            "Wall time: 535 µs\n"
          ]
        }
      ],
      "source": [
        "%%time\n",
        "# Running the functions in parallel\n",
        "\n",
        "x = delayed(inc)(1)\n",
        "y = delayed(inc)(2)\n",
        "x_add_y = delayed(add)(x, y)"
      ]
    },
    {
      "cell_type": "markdown",
      "id": "da1edb0b",
      "metadata": {
        "id": "da1edb0b"
      },
      "source": [
        "4. Next, you need to call the `compute` *function* on the `x_add_y` variable to get the value of `z`. Run the code below to compute the value of `z`, use the `%%time` *function* to find out how fast the execution is, and *print* the value of `z`."
      ]
    },
    {
      "cell_type": "code",
      "execution_count": 5,
      "id": "44f5d390",
      "metadata": {
        "colab": {
          "base_uri": "https://localhost:8080/"
        },
        "id": "44f5d390",
        "outputId": "fb50038a-7002-4395-96be-a7759a98ef38"
      },
      "outputs": [
        {
          "output_type": "stream",
          "name": "stdout",
          "text": [
            "5\n",
            "CPU times: user 546 ms, sys: 66 ms, total: 612 ms\n",
            "Wall time: 2.92 s\n"
          ]
        }
      ],
      "source": [
        "%%time\n",
        "z = x_add_y.compute()\n",
        "print(z)"
      ]
    },
    {
      "cell_type": "markdown",
      "id": "76137342",
      "metadata": {
        "id": "76137342"
      },
      "source": [
        "5. Then, call the `visualize` *function* on the `x_add_y` object to see how DASK runs the two `inc` *functions* in parallel."
      ]
    },
    {
      "cell_type": "code",
      "execution_count": 6,
      "id": "ba49c3a2",
      "metadata": {
        "colab": {
          "base_uri": "https://localhost:8080/",
          "height": 394
        },
        "id": "ba49c3a2",
        "outputId": "48162df8-2b7a-48f9-9b82-3e1f0c6b760e"
      },
      "outputs": [
        {
          "output_type": "execute_result",
          "data": {
            "image/png": "[encoded data removed]",
            "text/plain": [
              "<IPython.core.display.Image object>"
            ]
          },
          "metadata": {},
          "execution_count": 6
        }
      ],
      "source": [
        "x_add_y.visualize()"
      ]
    },
    {
      "cell_type": "markdown",
      "id": "38ddba74",
      "metadata": {
        "id": "38ddba74"
      },
      "source": [
        "The code below defines three *functions*: `double` which doubles a number, `is_even` that returns true or false if a number is even, and `inc` which increases a number by 1."
      ]
    },
    {
      "cell_type": "code",
      "execution_count": 7,
      "id": "cc4601c1",
      "metadata": {
        "id": "cc4601c1"
      },
      "outputs": [],
      "source": [
        "def double(x):\n",
        "    sleep(1)\n",
        "    return 2 * x\n",
        "\n",
        "def is_even(x):\n",
        "    return not x % 2\n",
        "\n",
        "def inc(x):\n",
        "    sleep(1)\n",
        "    return x + 1"
      ]
    },
    {
      "cell_type": "markdown",
      "id": "aa3d02da",
      "metadata": {
        "id": "aa3d02da"
      },
      "source": [
        "6. The code below *loops* through a *list* of numbers and performs the following computation:\n",
        "\n",
        "If a number in the *list* is even, then the value is doubled. Otherwise, the value is incremented by one. The code then sums all the numbers that were computed. Complete the code below to see how long it takes for the code to be executed sequentially."
      ]
    },
    {
      "cell_type": "code",
      "execution_count": 9,
      "id": "f40ad45e",
      "metadata": {
        "colab": {
          "base_uri": "https://localhost:8080/"
        },
        "id": "f40ad45e",
        "outputId": "a40820b5-29eb-4932-b1d0-38d329ef551c"
      },
      "outputs": [
        {
          "output_type": "stream",
          "name": "stdout",
          "text": [
            "90\n",
            "CPU times: user 53 ms, sys: 3.2 ms, total: 56.2 ms\n",
            "Wall time: 10 s\n"
          ]
        }
      ],
      "source": [
        "%%time\n",
        "# Sequential code\n",
        "\n",
        "data = [1,2,3,4,5,6,7,8,9,10]\n",
        "\n",
        "results = []\n",
        "for x in data:\n",
        "    if is_even(x):\n",
        "        y = double(x)\n",
        "    else:\n",
        "        y = inc(x)\n",
        "    results.append(y)\n",
        "\n",
        "total = sum(results)\n",
        "print(total)"
      ]
    },
    {
      "cell_type": "markdown",
      "id": "0f65ac99",
      "metadata": {
        "id": "0f65ac99"
      },
      "source": [
        "7. Complete the code and add the `delayed` *decorator* to the *function* calls to run the *functions* in parallel:"
      ]
    },
    {
      "cell_type": "code",
      "execution_count": 11,
      "id": "70f92229",
      "metadata": {
        "id": "70f92229"
      },
      "outputs": [],
      "source": [
        "results = []\n",
        "for x in data:\n",
        "    if is_even(x):  # even\n",
        "        y = delayed(double)(x)\n",
        "    else:          # odd\n",
        "        y = delayed(inc)(x)\n",
        "    results.append(y)\n",
        "\n",
        "total = delayed(sum)(results)"
      ]
    },
    {
      "cell_type": "markdown",
      "id": "1b1a9ee7",
      "metadata": {
        "id": "1b1a9ee7"
      },
      "source": [
        "8. Complete the code below to run the `compute()` *function* on the total variable. Also, use the `%%time` *function* to analyze how long it look to run the *functions* in parallel."
      ]
    },
    {
      "cell_type": "code",
      "execution_count": 12,
      "id": "8f98f7ff",
      "metadata": {
        "colab": {
          "base_uri": "https://localhost:8080/"
        },
        "id": "8f98f7ff",
        "outputId": "7f72a638-4bb0-4b2f-b916-42793a26eb44"
      },
      "outputs": [
        {
          "output_type": "stream",
          "name": "stdout",
          "text": [
            "CPU times: user 30.3 ms, sys: 4.58 ms, total: 34.9 ms\n",
            "Wall time: 5.01 s\n"
          ]
        },
        {
          "output_type": "execute_result",
          "data": {
            "text/plain": [
              "90"
            ]
          },
          "metadata": {},
          "execution_count": 12
        }
      ],
      "source": [
        "%%time\n",
        "total.compute()"
      ]
    },
    {
      "cell_type": "markdown",
      "id": "9d3df358",
      "metadata": {
        "id": "9d3df358"
      },
      "source": [
        "9. Now complete the code below and call the `visualize()` *function* to see a graphical representation of how DASK created multiple *threads* for the different *functions* (`double` and `inc`) to obtain the sum."
      ]
    },
    {
      "cell_type": "code",
      "execution_count": 13,
      "id": "1a89ea4e",
      "metadata": {
        "colab": {
          "base_uri": "https://localhost:8080/",
          "height": 441
        },
        "id": "1a89ea4e",
        "outputId": "81739f7d-fd6d-4a41-e554-54b3589e6ddc"
      },
      "outputs": [
        {
          "output_type": "execute_result",
          "data": {
            "image/png": "[encoded data removed]",
            "text/plain": [
              "<IPython.core.display.Image object>"
            ]
          },
          "metadata": {},
          "execution_count": 13
        }
      ],
      "source": [
        "total.visualize()"
      ]
    }
  ],
  "metadata": {
    "kernelspec": {
      "display_name": "Python 3 (ipykernel)",
      "language": "python",
      "name": "python3"
    },
    "language_info": {
      "codemirror_mode": {
        "name": "ipython",
        "version": 3
      },
      "file_extension": ".py",
      "mimetype": "text/x-python",
      "name": "python",
      "nbconvert_exporter": "python",
      "pygments_lexer": "ipython3",
      "version": "3.9.9"
    },
    "colab": {
      "provenance": [],
      "include_colab_link": true
    }
  },
  "nbformat": 4,
  "nbformat_minor": 5
}